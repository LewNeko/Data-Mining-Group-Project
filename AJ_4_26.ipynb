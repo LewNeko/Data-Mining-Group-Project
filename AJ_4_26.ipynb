{
  "cells": [
    {
      "cell_type": "markdown",
      "metadata": {
        "id": "view-in-github",
        "colab_type": "text"
      },
      "source": [
        "<a href=\"https://colab.research.google.com/github/LewNeko/Data-Mining-Group-Project/blob/main/AJ_4_26.ipynb\" target=\"_parent\"><img src=\"https://colab.research.google.com/assets/colab-badge.svg\" alt=\"Open In Colab\"/></a>"
      ]
    },
    {
      "cell_type": "markdown",
      "id": "f5d09a79",
      "metadata": {
        "id": "f5d09a79"
      },
      "source": [
        "# 🍽️ Recipe Reviews – Fully‑Commented NLP → ML Pipeline  \n",
        "\n",
        "This notebook is **heavily annotated** so you can see *exactly* what happens at each stage:\n",
        "\n",
        "* **Linguistic preprocessing** with **spaCy** (HTML un‑escape → lower‑case → lemmatise → remove stop‑words/non‑alphabetic tokens).  \n",
        "* Build a **bag‑of‑words** representation using scikit‑learn’s `TfidfVectorizer` (1‑ and 2‑grams).  \n",
        "* **Class‑imbalance handling** using *sampling with replacement* (a.k.a. bootstrapping) to up‑sample minority classes – yes, that means duplicating existing rows.  \n",
        "* Train & evaluate 4 baseline models (Multinomial NB, k‑NN, Linear SVM, and a **tiny ANN** with a single 50‑unit hidden layer to keep runtime low).  \n",
        "* Plots for raw vs. balanced class distributions and a bar‑chart of model accuracies.\n",
        "\n",
        "Feel free to tweak any parameter and re‑run!"
      ]
    },
    {
      "cell_type": "code",
      "execution_count": null,
      "id": "62640c32",
      "metadata": {
        "id": "62640c32",
        "outputId": "f8ff9fda-97c7-4491-f49d-ad4ab28ad3f3"
      },
      "outputs": [
        {
          "name": "stdout",
          "output_type": "stream",
          "text": [
            "✅ spaCy + model ready!\n"
          ]
        }
      ],
      "source": [
        "# --------------------------------------------------------------------------------\n",
        "# 1️⃣  Ensure spaCy + English model are installed.\n",
        "#    This cell runs only once; subsequent executions are instant.\n",
        "# --------------------------------------------------------------------------------\n",
        "import importlib, subprocess, sys\n",
        "def ensure_spacy_model():\n",
        "    # Install spaCy if missing\n",
        "    if importlib.util.find_spec(\"spacy\") is None:\n",
        "        subprocess.check_call([sys.executable, \"-m\", \"pip\", \"install\", \"spacy==3.7.2\"])\n",
        "    import spacy\n",
        "    try:\n",
        "        spacy.load(\"en_core_web_sm\")\n",
        "    except OSError:\n",
        "        # Model not present – download it.\n",
        "        subprocess.check_call([sys.executable, \"-m\", \"spacy\", \"download\", \"en_core_web_sm\"])\n",
        "    print(\"✅ spaCy + model ready!\")\n",
        "ensure_spacy_model()"
      ]
    },
    {
      "cell_type": "code",
      "execution_count": null,
      "id": "306d752f",
      "metadata": {
        "id": "306d752f"
      },
      "outputs": [],
      "source": [
        "# --------------------------------------------------------------------------------\n",
        "# 2️⃣  Imports & configuration parameters\n",
        "# --------------------------------------------------------------------------------\n",
        "import pandas as pd, numpy as np, re, html, spacy, matplotlib.pyplot as plt\n",
        "from sklearn.model_selection import train_test_split\n",
        "from sklearn.feature_extraction.text import TfidfVectorizer\n",
        "from sklearn.preprocessing import StandardScaler\n",
        "from sklearn.pipeline import Pipeline\n",
        "from sklearn.naive_bayes import MultinomialNB\n",
        "from sklearn.neighbors import KNeighborsClassifier\n",
        "from sklearn.svm import LinearSVC\n",
        "from sklearn.neural_network import MLPClassifier\n",
        "from sklearn.metrics import accuracy_score, classification_report\n",
        "from scipy import sparse\n",
        "\n",
        "# ⚙️ Adjust these as needed\n",
        "RAW_PATH            = \"Recipe Reviews and User Feedback Dataset.csv\"\n",
        "N_ROWS              = None          # load full data; set to int for quicker experiments\n",
        "TEST_SIZE           = 0.20\n",
        "RANDOM_STATE        = 42\n",
        "MAX_TFIDF_FEATURES  = 12000         # vocab size\n",
        "BALANCE_DATA        = True          # up‑sample minority classes\n"
      ]
    },
    {
      "cell_type": "code",
      "execution_count": null,
      "id": "142b7c3e",
      "metadata": {
        "id": "142b7c3e",
        "outputId": "4857c18d-4993-457a-90a2-ab0b8404a825"
      },
      "outputs": [
        {
          "name": "stdout",
          "output_type": "stream",
          "text": [
            "📊 DataFrame shape after filtering: (16484, 15)\n"
          ]
        },
        {
          "data": {
            "text/html": [
              "<div>\n",
              "<style scoped>\n",
              "    .dataframe tbody tr th:only-of-type {\n",
              "        vertical-align: middle;\n",
              "    }\n",
              "\n",
              "    .dataframe tbody tr th {\n",
              "        vertical-align: top;\n",
              "    }\n",
              "\n",
              "    .dataframe thead th {\n",
              "        text-align: right;\n",
              "    }\n",
              "</style>\n",
              "<table border=\"1\" class=\"dataframe\">\n",
              "  <thead>\n",
              "    <tr style=\"text-align: right;\">\n",
              "      <th></th>\n",
              "      <th>Unnamed: 0</th>\n",
              "      <th>recipe_number</th>\n",
              "      <th>recipe_code</th>\n",
              "      <th>recipe_name</th>\n",
              "      <th>comment_id</th>\n",
              "      <th>user_id</th>\n",
              "      <th>user_name</th>\n",
              "      <th>user_reputation</th>\n",
              "      <th>created_at</th>\n",
              "      <th>reply_count</th>\n",
              "      <th>thumbs_up</th>\n",
              "      <th>thumbs_down</th>\n",
              "      <th>stars</th>\n",
              "      <th>best_score</th>\n",
              "      <th>text</th>\n",
              "    </tr>\n",
              "  </thead>\n",
              "  <tbody>\n",
              "    <tr>\n",
              "      <th>0</th>\n",
              "      <td>0</td>\n",
              "      <td>1</td>\n",
              "      <td>14299</td>\n",
              "      <td>Creamy White Chili</td>\n",
              "      <td>sp_aUSaElGf_14299_c_2G3aneMRgRMZwXqIHmSdXSG1hEM</td>\n",
              "      <td>u_9iFLIhMa8QaG</td>\n",
              "      <td>Jeri326</td>\n",
              "      <td>1</td>\n",
              "      <td>1665619889</td>\n",
              "      <td>0</td>\n",
              "      <td>0</td>\n",
              "      <td>0</td>\n",
              "      <td>5</td>\n",
              "      <td>527</td>\n",
              "      <td>I tweaked it a little, removed onions because ...</td>\n",
              "    </tr>\n",
              "    <tr>\n",
              "      <th>1</th>\n",
              "      <td>1</td>\n",
              "      <td>1</td>\n",
              "      <td>14299</td>\n",
              "      <td>Creamy White Chili</td>\n",
              "      <td>sp_aUSaElGf_14299_c_2FsPC83HtzCsQAtOxlbL6RcaPbY</td>\n",
              "      <td>u_Lu6p25tmE77j</td>\n",
              "      <td>Mark467</td>\n",
              "      <td>50</td>\n",
              "      <td>1665277687</td>\n",
              "      <td>0</td>\n",
              "      <td>7</td>\n",
              "      <td>0</td>\n",
              "      <td>5</td>\n",
              "      <td>724</td>\n",
              "      <td>Bush used to have a white chili bean and it ma...</td>\n",
              "    </tr>\n",
              "    <tr>\n",
              "      <th>2</th>\n",
              "      <td>2</td>\n",
              "      <td>1</td>\n",
              "      <td>14299</td>\n",
              "      <td>Creamy White Chili</td>\n",
              "      <td>sp_aUSaElGf_14299_c_2FPrSGyTv7PQkZq37j92r9mYGkP</td>\n",
              "      <td>u_s0LwgpZ8Jsqq</td>\n",
              "      <td>Barbara566</td>\n",
              "      <td>10</td>\n",
              "      <td>1664404557</td>\n",
              "      <td>0</td>\n",
              "      <td>3</td>\n",
              "      <td>0</td>\n",
              "      <td>5</td>\n",
              "      <td>710</td>\n",
              "      <td>I have a very complicated white chicken chili ...</td>\n",
              "    </tr>\n",
              "    <tr>\n",
              "      <th>3</th>\n",
              "      <td>5</td>\n",
              "      <td>1</td>\n",
              "      <td>14299</td>\n",
              "      <td>Creamy White Chili</td>\n",
              "      <td>sp_aUSaElGf_14299_c_2Do918IutExN0pWEOFMU4cbiT8v</td>\n",
              "      <td>u_BALTQJIvWtYr</td>\n",
              "      <td>nikhita</td>\n",
              "      <td>1</td>\n",
              "      <td>1661354351</td>\n",
              "      <td>0</td>\n",
              "      <td>3</td>\n",
              "      <td>1</td>\n",
              "      <td>5</td>\n",
              "      <td>518</td>\n",
              "      <td>amazing! my boyfriend loved it so much! going ...</td>\n",
              "    </tr>\n",
              "    <tr>\n",
              "      <th>4</th>\n",
              "      <td>6</td>\n",
              "      <td>1</td>\n",
              "      <td>14299</td>\n",
              "      <td>Creamy White Chili</td>\n",
              "      <td>sp_aUSaElGf_14299_c_24hhcbywpsgGqG7yeDFH1IPZCb8</td>\n",
              "      <td>u_HuJVXMzQqJoI</td>\n",
              "      <td>Sandy1256</td>\n",
              "      <td>1</td>\n",
              "      <td>1644088805</td>\n",
              "      <td>0</td>\n",
              "      <td>11</td>\n",
              "      <td>0</td>\n",
              "      <td>5</td>\n",
              "      <td>833</td>\n",
              "      <td>Wow!!!  This recipe is excellent as written!! ...</td>\n",
              "    </tr>\n",
              "  </tbody>\n",
              "</table>\n",
              "</div>"
            ],
            "text/plain": [
              "   Unnamed: 0  recipe_number  recipe_code         recipe_name  \\\n",
              "0           0              1        14299  Creamy White Chili   \n",
              "1           1              1        14299  Creamy White Chili   \n",
              "2           2              1        14299  Creamy White Chili   \n",
              "3           5              1        14299  Creamy White Chili   \n",
              "4           6              1        14299  Creamy White Chili   \n",
              "\n",
              "                                        comment_id         user_id  \\\n",
              "0  sp_aUSaElGf_14299_c_2G3aneMRgRMZwXqIHmSdXSG1hEM  u_9iFLIhMa8QaG   \n",
              "1  sp_aUSaElGf_14299_c_2FsPC83HtzCsQAtOxlbL6RcaPbY  u_Lu6p25tmE77j   \n",
              "2  sp_aUSaElGf_14299_c_2FPrSGyTv7PQkZq37j92r9mYGkP  u_s0LwgpZ8Jsqq   \n",
              "3  sp_aUSaElGf_14299_c_2Do918IutExN0pWEOFMU4cbiT8v  u_BALTQJIvWtYr   \n",
              "4  sp_aUSaElGf_14299_c_24hhcbywpsgGqG7yeDFH1IPZCb8  u_HuJVXMzQqJoI   \n",
              "\n",
              "    user_name  user_reputation  created_at  reply_count  thumbs_up  \\\n",
              "0     Jeri326                1  1665619889            0          0   \n",
              "1     Mark467               50  1665277687            0          7   \n",
              "2  Barbara566               10  1664404557            0          3   \n",
              "3     nikhita                1  1661354351            0          3   \n",
              "4   Sandy1256                1  1644088805            0         11   \n",
              "\n",
              "   thumbs_down  stars  best_score  \\\n",
              "0            0      5         527   \n",
              "1            0      5         724   \n",
              "2            0      5         710   \n",
              "3            1      5         518   \n",
              "4            0      5         833   \n",
              "\n",
              "                                                text  \n",
              "0  I tweaked it a little, removed onions because ...  \n",
              "1  Bush used to have a white chili bean and it ma...  \n",
              "2  I have a very complicated white chicken chili ...  \n",
              "3  amazing! my boyfriend loved it so much! going ...  \n",
              "4  Wow!!!  This recipe is excellent as written!! ...  "
            ]
          },
          "execution_count": 6,
          "metadata": {},
          "output_type": "execute_result"
        }
      ],
      "source": [
        "# --------------------------------------------------------------------------------\n",
        "# 3️⃣  Load the raw CSV + minimal filtering\n",
        "# --------------------------------------------------------------------------------\n",
        "df = pd.read_csv(RAW_PATH, nrows=N_ROWS)\n",
        "\n",
        "# Keep rows that have a valid star rating (1‒5) and non‑empty review text\n",
        "df = df[df['stars'].between(1, 5)].dropna(subset=['text']).reset_index(drop=True)\n",
        "print(\"📊 DataFrame shape after filtering:\", df.shape)\n",
        "df.head()"
      ]
    },
    {
      "cell_type": "code",
      "execution_count": null,
      "id": "b4cc09a5",
      "metadata": {
        "id": "b4cc09a5",
        "outputId": "270b0044-6f21-4924-c977-b2eac98dbd3f"
      },
      "outputs": [
        {
          "name": "stderr",
          "output_type": "stream",
          "text": [
            "c:\\Users\\allen\\anaconda3\\Lib\\site-packages\\spacy\\pipeline\\lemmatizer.py:211: UserWarning: [W108] The rule-based lemmatizer did not find POS annotation for one or more tokens. Check that your pipeline includes components that assign token.pos, typically 'tagger'+'attribute_ruler' or 'morphologizer'.\n",
            "  warnings.warn(Warnings.W108)\n"
          ]
        },
        {
          "name": "stdout",
          "output_type": "stream",
          "text": [
            "10,000 reviews lemmatised\n"
          ]
        },
        {
          "data": {
            "text/html": [
              "<div>\n",
              "<style scoped>\n",
              "    .dataframe tbody tr th:only-of-type {\n",
              "        vertical-align: middle;\n",
              "    }\n",
              "\n",
              "    .dataframe tbody tr th {\n",
              "        vertical-align: top;\n",
              "    }\n",
              "\n",
              "    .dataframe thead th {\n",
              "        text-align: right;\n",
              "    }\n",
              "</style>\n",
              "<table border=\"1\" class=\"dataframe\">\n",
              "  <thead>\n",
              "    <tr style=\"text-align: right;\">\n",
              "      <th></th>\n",
              "      <th>stars</th>\n",
              "      <th>lemmas</th>\n",
              "    </tr>\n",
              "  </thead>\n",
              "  <tbody>\n",
              "    <tr>\n",
              "      <th>0</th>\n",
              "      <td>5</td>\n",
              "      <td>tweaked little removed onions onion haters hou...</td>\n",
              "    </tr>\n",
              "    <tr>\n",
              "      <th>1</th>\n",
              "      <td>5</td>\n",
              "      <td>bush white chili bean recipe super simple writ...</td>\n",
              "    </tr>\n",
              "    <tr>\n",
              "      <th>2</th>\n",
              "      <td>5</td>\n",
              "      <td>complicated white chicken chili recipe years r...</td>\n",
              "    </tr>\n",
              "    <tr>\n",
              "      <th>3</th>\n",
              "      <td>5</td>\n",
              "      <td>amazing boyfriend loved going week</td>\n",
              "    </tr>\n",
              "    <tr>\n",
              "      <th>4</th>\n",
              "      <td>5</td>\n",
              "      <td>wow recipe excellent written change oz jar gre...</td>\n",
              "    </tr>\n",
              "  </tbody>\n",
              "</table>\n",
              "</div>"
            ],
            "text/plain": [
              "   stars                                             lemmas\n",
              "0      5  tweaked little removed onions onion haters hou...\n",
              "1      5  bush white chili bean recipe super simple writ...\n",
              "2      5  complicated white chicken chili recipe years r...\n",
              "3      5                 amazing boyfriend loved going week\n",
              "4      5  wow recipe excellent written change oz jar gre..."
            ]
          },
          "execution_count": 7,
          "metadata": {},
          "output_type": "execute_result"
        }
      ],
      "source": [
        "# --------------------------------------------------------------------------------\n",
        "# 4️⃣  spaCy linguistic preprocessing (lemmatisation)\n",
        "# --------------------------------------------------------------------------------\n",
        "#  • We disable parser / NER / tagger for speed – we only need tokenisation + lemmatisation.\n",
        "nlp = spacy.load(\"en_core_web_sm\", disable=[\"parser\", \"ner\", \"tagger\"])\n",
        "nlp.max_length = 2_000_000  # safety for very long reviews\n",
        "\n",
        "def spacy_lemmatise(text: str) -> str:\n",
        "    \"\"\"Preprocess a single review:\n",
        "    1. Un‑escape HTML entities (e.g. '&#34;' → '\"').\n",
        "    2. Lower‑case the text (spaCy is case‑aware, but this keeps vocab smaller).\n",
        "    3. Let spaCy tokenize, then:\n",
        "       • keep alphabetic tokens only (drop numbers/punctuation)\n",
        "       • drop built‑in stop‑words (e.g. 'the', 'and')\n",
        "       • replace each token by its canonical lemma (e.g. 'running' → 'run')\n",
        "    4. Return a **space‑joined string of lemmas** – perfect for bag‑of‑words.\n",
        "    \"\"\"\n",
        "    text = html.unescape(text)          # un‑escape HTML sequences\n",
        "    doc = nlp(text.lower())             # tokenize + POS/lemma\n",
        "    lemmas = [tok.lemma_ for tok in doc\n",
        "              if tok.is_alpha and not tok.is_stop]\n",
        "    return \" \".join(lemmas)\n",
        "\n",
        "# 🚀 Apply to every review (prints progress every 10k for large datasets)\n",
        "lemmatised_reviews = []\n",
        "for i, review in enumerate(df['text'].astype(str)):\n",
        "    lemmatised_reviews.append(spacy_lemmatise(review))\n",
        "    if (i + 1) % 10000 == 0:\n",
        "        print(f\"{i+1:,} reviews lemmatised\")\n",
        "\n",
        "df['lemmas'] = lemmatised_reviews\n",
        "df[['stars', 'lemmas']].head()"
      ]
    },
    {
      "cell_type": "code",
      "execution_count": null,
      "id": "1b7f6ca3",
      "metadata": {
        "id": "1b7f6ca3",
        "outputId": "0cdcb49e-8af5-472a-ea04-66869e518fd8"
      },
      "outputs": [
        {
          "data": {
            "image/png": "[encoded data removed]",
            "text/plain": [
              "<Figure size 640x480 with 1 Axes>"
            ]
          },
          "metadata": {},
          "output_type": "display_data"
        }
      ],
      "source": [
        "# --------------------------------------------------------------------------------\n",
        "# 5️⃣  Visualise class imbalance (raw distribution)\n",
        "# --------------------------------------------------------------------------------\n",
        "df['stars'].value_counts().sort_index().plot(kind='bar', color='steelblue')\n",
        "plt.title('Star‑Rating Distribution – RAW'); plt.xlabel('Stars'); plt.ylabel('Count')\n",
        "plt.show()"
      ]
    },
    {
      "cell_type": "code",
      "execution_count": null,
      "id": "9e470575",
      "metadata": {
        "id": "9e470575",
        "outputId": "b5e48741-3475-4604-c4b0-8d06bcc1dd53"
      },
      "outputs": [
        {
          "name": "stdout",
          "output_type": "stream",
          "text": [
            "✅ Balanced rows: 69135\n"
          ]
        },
        {
          "name": "stderr",
          "output_type": "stream",
          "text": [
            "C:\\Users\\allen\\AppData\\Local\\Temp\\ipykernel_5772\\3873777537.py:11: DeprecationWarning: DataFrameGroupBy.apply operated on the grouping columns. This behavior is deprecated, and in a future version of pandas the grouping columns will be excluded from the operation. Either pass `include_groups=False` to exclude the groupings or explicitly select the grouping columns after groupby to silence this warning.\n",
            "  .apply(lambda x: x.sample(majority_size,\n"
          ]
        },
        {
          "data": {
            "image/png": "[encoded data removed]",
            "text/plain": [
              "<Figure size 640x480 with 1 Axes>"
            ]
          },
          "metadata": {},
          "output_type": "display_data"
        }
      ],
      "source": [
        "# --------------------------------------------------------------------------------\n",
        "# 6️⃣  (Optional) Balance the dataset with up‑sampling\n",
        "# --------------------------------------------------------------------------------\n",
        "if BALANCE_DATA:\n",
        "    # Up‑sampling = randomly re‑draw *with replacement* from each minority class\n",
        "    # until every class has the same number of rows as the majority class.\n",
        "    # So yes: some reviews are duplicated verbatim.\n",
        "    majority_size = df['stars'].value_counts().max()\n",
        "    df_bal = (\n",
        "        df.groupby('stars', group_keys=False)\n",
        "          .apply(lambda x: x.sample(majority_size,\n",
        "                                    replace=True,  # <-- sampling *with replacement*\n",
        "                                    random_state=RANDOM_STATE))\n",
        "          .reset_index(drop=True)\n",
        "    )\n",
        "    print(\"✅ Balanced rows:\", len(df_bal))\n",
        "    df_bal['stars'].value_counts().sort_index().plot(kind='bar', color='seagreen')\n",
        "    plt.title('Star‑Rating Distribution – AFTER UP‑SAMPLING'); plt.xlabel('Stars'); plt.ylabel('Count')\n",
        "    plt.show()\n",
        "else:\n",
        "    df_bal = df.copy()\n"
      ]
    },
    {
      "cell_type": "code",
      "execution_count": null,
      "id": "80b94318",
      "metadata": {
        "id": "80b94318",
        "outputId": "17a4de0a-c5da-4b09-d575-58fbc589c1fe"
      },
      "outputs": [
        {
          "name": "stderr",
          "output_type": "stream",
          "text": [
            "c:\\Users\\allen\\anaconda3\\Lib\\site-packages\\sklearn\\feature_extraction\\text.py:521: UserWarning: The parameter 'token_pattern' will not be used since 'tokenizer' is not None'\n",
            "  warnings.warn(\n"
          ]
        },
        {
          "name": "stdout",
          "output_type": "stream",
          "text": [
            "🔢 Feature matrix: (69135, 12002)\n"
          ]
        }
      ],
      "source": [
        "# --------------------------------------------------------------------------------\n",
        "# 7️⃣  Bag‑of‑Words feature matrix with TF‑IDF weighting\n",
        "# --------------------------------------------------------------------------------\n",
        "# Notes:\n",
        "# • tokenizer=str.split   -> reuse our space‑separated lemmas (no extra regex work)\n",
        "# • lowercase=False       -> already lower‑cased earlier\n",
        "# • ngram_range=(1,2)     -> include unigrams + bigrams\n",
        "vectorizer = TfidfVectorizer(\n",
        "    max_features=MAX_TFIDF_FEATURES,\n",
        "    ngram_range=(1, 2),\n",
        "    tokenizer=str.split,\n",
        "    lowercase=False\n",
        ")\n",
        "\n",
        "X_text = vectorizer.fit_transform(df_bal['lemmas'])\n",
        "\n",
        "# Add a lightweight numeric feature block: thumbs_up / thumbs_down (normalised 0‑1)\n",
        "thumbs = df_bal[['thumbs_up', 'thumbs_down']].fillna(0)\n",
        "thumbs_norm = thumbs / thumbs.max()\n",
        "\n",
        "# Combine sparse TF‑IDF with dense numeric matrix\n",
        "X = sparse.hstack([X_text, sparse.csr_matrix(thumbs_norm.values)])\n",
        "y = df_bal['stars']\n",
        "print(\"🔢 Feature matrix:\", X.shape)"
      ]
    },
    {
      "cell_type": "code",
      "execution_count": null,
      "id": "8afc2d01",
      "metadata": {
        "id": "8afc2d01",
        "outputId": "53a7a18b-03ef-4b79-dd23-78aaade794dc"
      },
      "outputs": [
        {
          "name": "stdout",
          "output_type": "stream",
          "text": [
            "Train: (55308, 12002) Test: (13827, 12002)\n"
          ]
        }
      ],
      "source": [
        "# --------------------------------------------------------------------------------\n",
        "# 8️⃣  Stratified train/test split\n",
        "# --------------------------------------------------------------------------------\n",
        "X_train, X_test, y_train, y_test = train_test_split(\n",
        "    X, y, test_size=TEST_SIZE, stratify=y, random_state=RANDOM_STATE)\n",
        "print(\"Train:\", X_train.shape, \"Test:\", X_test.shape)"
      ]
    },
    {
      "cell_type": "code",
      "execution_count": null,
      "id": "05ed3b2d",
      "metadata": {
        "id": "05ed3b2d",
        "outputId": "b4cf224f-7bf6-4f13-f43a-7e48eddf75c6"
      },
      "outputs": [
        {
          "name": "stdout",
          "output_type": "stream",
          "text": [
            "\n",
            "⚙️  Training Multinomial NB\n",
            "              precision    recall  f1-score   support\n",
            "\n",
            "           1       0.99      0.99      0.99      2766\n",
            "           2       0.99      0.98      0.99      2765\n",
            "           3       0.93      0.91      0.92      2765\n",
            "           4       0.76      0.82      0.79      2766\n",
            "           5       0.82      0.77      0.80      2765\n",
            "\n",
            "    accuracy                           0.90     13827\n",
            "   macro avg       0.90      0.90      0.90     13827\n",
            "weighted avg       0.90      0.90      0.90     13827\n",
            "\n",
            "\n",
            "⚙️  Training k‑NN (cosine, k=5)\n",
            "              precision    recall  f1-score   support\n",
            "\n",
            "           1       0.99      1.00      1.00      2766\n",
            "           2       0.98      1.00      0.99      2765\n",
            "           3       0.95      1.00      0.97      2765\n",
            "           4       0.83      0.96      0.89      2766\n",
            "           5       0.97      0.75      0.85      2765\n",
            "\n",
            "    accuracy                           0.94     13827\n",
            "   macro avg       0.95      0.94      0.94     13827\n",
            "weighted avg       0.95      0.94      0.94     13827\n",
            "\n",
            "\n",
            "⚙️  Training Linear SVM\n",
            "              precision    recall  f1-score   support\n",
            "\n",
            "           1       1.00      1.00      1.00      2766\n",
            "           2       0.98      1.00      0.99      2765\n",
            "           3       0.99      0.98      0.98      2765\n",
            "           4       0.90      0.96      0.92      2766\n",
            "           5       0.95      0.87      0.91      2765\n",
            "\n",
            "    accuracy                           0.96     13827\n",
            "   macro avg       0.96      0.96      0.96     13827\n",
            "weighted avg       0.96      0.96      0.96     13827\n",
            "\n",
            "\n",
            "⚙️  Training ANN (1×50 relu)\n",
            "              precision    recall  f1-score   support\n",
            "\n",
            "           1       1.00      0.91      0.95      2766\n",
            "           2       0.99      0.64      0.78      2765\n",
            "           3       0.90      0.63      0.74      2765\n",
            "           4       0.91      0.79      0.84      2766\n",
            "           5       0.48      0.90      0.63      2765\n",
            "\n",
            "    accuracy                           0.77     13827\n",
            "   macro avg       0.85      0.77      0.79     13827\n",
            "weighted avg       0.85      0.77      0.79     13827\n",
            "\n"
          ]
        },
        {
          "data": {
            "text/html": [
              "<div>\n",
              "<style scoped>\n",
              "    .dataframe tbody tr th:only-of-type {\n",
              "        vertical-align: middle;\n",
              "    }\n",
              "\n",
              "    .dataframe tbody tr th {\n",
              "        vertical-align: top;\n",
              "    }\n",
              "\n",
              "    .dataframe thead th {\n",
              "        text-align: right;\n",
              "    }\n",
              "</style>\n",
              "<table border=\"1\" class=\"dataframe\">\n",
              "  <thead>\n",
              "    <tr style=\"text-align: right;\">\n",
              "      <th></th>\n",
              "      <th>Model</th>\n",
              "      <th>Accuracy</th>\n",
              "    </tr>\n",
              "  </thead>\n",
              "  <tbody>\n",
              "    <tr>\n",
              "      <th>2</th>\n",
              "      <td>Linear SVM</td>\n",
              "      <td>0.9622</td>\n",
              "    </tr>\n",
              "    <tr>\n",
              "      <th>1</th>\n",
              "      <td>k‑NN (cosine, k=5)</td>\n",
              "      <td>0.9416</td>\n",
              "    </tr>\n",
              "    <tr>\n",
              "      <th>0</th>\n",
              "      <td>Multinomial NB</td>\n",
              "      <td>0.8964</td>\n",
              "    </tr>\n",
              "    <tr>\n",
              "      <th>3</th>\n",
              "      <td>ANN (1×50 relu)</td>\n",
              "      <td>0.7728</td>\n",
              "    </tr>\n",
              "  </tbody>\n",
              "</table>\n",
              "</div>"
            ],
            "text/plain": [
              "                Model  Accuracy\n",
              "2          Linear SVM    0.9622\n",
              "1  k‑NN (cosine, k=5)    0.9416\n",
              "0      Multinomial NB    0.8964\n",
              "3     ANN (1×50 relu)    0.7728"
            ]
          },
          "execution_count": 12,
          "metadata": {},
          "output_type": "execute_result"
        }
      ],
      "source": [
        "# --------------------------------------------------------------------------------\n",
        "# 9️⃣  Train & evaluate baseline models\n",
        "# --------------------------------------------------------------------------------\n",
        "models = {\n",
        "    # Multinomial NB is a natural baseline for word‑count features\n",
        "    'Multinomial NB': MultinomialNB(),\n",
        "    # Cosine k‑NN can capture local similarity in TF‑IDF space\n",
        "    'k‑NN (cosine, k=5)': KNeighborsClassifier(n_neighbors=5, metric='cosine'),\n",
        "    # Linear SVM is often a top performer for sparse text data\n",
        "    'Linear SVM': LinearSVC(),\n",
        "    # Tiny ANN: single hidden layer (50) → fast to train\n",
        "    'ANN (1×50 relu)': Pipeline([\n",
        "        ('scale', StandardScaler(with_mean=False)),  # scale sparse inputs\n",
        "        ('mlp', MLPClassifier(hidden_layer_sizes=(2,),  # <= smaller layer\n",
        "                              activation='relu',\n",
        "                              max_iter=150,\n",
        "                              random_state=RANDOM_STATE))\n",
        "    ])\n",
        "}\n",
        "\n",
        "results = []\n",
        "for name, model in models.items():\n",
        "    print(f\"\\n⚙️  Training {name}\")\n",
        "    model.fit(X_train, y_train)\n",
        "    preds = model.predict(X_test)\n",
        "    acc = accuracy_score(y_test, preds)\n",
        "    results.append({'Model': name, 'Accuracy': round(acc, 4)})\n",
        "    print(classification_report(y_test, preds, zero_division=0))\n",
        "results_df = pd.DataFrame(results).sort_values('Accuracy', ascending=False)\n",
        "results_df"
      ]
    },
    {
      "cell_type": "code",
      "execution_count": null,
      "id": "2547e364",
      "metadata": {
        "id": "2547e364",
        "outputId": "30d170ed-c8c1-4ea0-f200-8c76ae13b002"
      },
      "outputs": [
        {
          "data": {
            "image/png": "[encoded data removed]",
            "text/plain": [
              "<Figure size 640x480 with 1 Axes>"
            ]
          },
          "metadata": {},
          "output_type": "display_data"
        }
      ],
      "source": [
        "# --------------------------------------------------------------------------------\n",
        "# 🔟  Visual comparison of accuracies\n",
        "# --------------------------------------------------------------------------------\n",
        "results_df.plot(kind='bar', x='Model', y='Accuracy', legend=False)\n",
        "plt.title('Baseline Model Accuracies'); plt.ylim(0, 1); plt.ylabel('Accuracy')\n",
        "plt.xticks(rotation=45, ha='right'); plt.tight_layout(); plt.show()"
      ]
    }
  ],
  "metadata": {
    "kernelspec": {
      "display_name": "base",
      "language": "python",
      "name": "python3"
    },
    "language_info": {
      "codemirror_mode": {
        "name": "ipython",
        "version": 3
      },
      "file_extension": ".py",
      "mimetype": "text/x-python",
      "name": "python",
      "nbconvert_exporter": "python",
      "pygments_lexer": "ipython3",
      "version": "3.12.7"
    },
    "colab": {
      "provenance": [],
      "include_colab_link": true
    }
  },
  "nbformat": 4,
  "nbformat_minor": 5
}